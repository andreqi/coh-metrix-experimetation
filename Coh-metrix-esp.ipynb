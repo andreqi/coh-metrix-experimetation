{
 "metadata": {
  "name": "",
  "signature": "sha256:112364f18404b500d808425ff0ae5bdec2186cdb888a4b28cb4e834ff1c1f419"
 },
 "nbformat": 3,
 "nbformat_minor": 0,
 "worksheets": [
  {
   "cells": [
    {
     "cell_type": "code",
     "collapsed": false,
     "input": [
      "import pandas as pd\n",
      "from scipy import *"
     ],
     "language": "python",
     "metadata": {},
     "outputs": [],
     "prompt_number": 9
    },
    {
     "cell_type": "code",
     "collapsed": false,
     "input": [
      "arf = open('classifier.arff').readlines()"
     ],
     "language": "python",
     "metadata": {},
     "outputs": [],
     "prompt_number": 10
    },
    {
     "cell_type": "code",
     "collapsed": false,
     "input": [
      "labels, data = arf[2:48], arf[51:]"
     ],
     "language": "python",
     "metadata": {},
     "outputs": [],
     "prompt_number": 27
    },
    {
     "cell_type": "code",
     "collapsed": false,
     "input": [
      "def parseArffLabelRow(row):\n",
      "    tokens = row.split()\n",
      "    return {'feature': tokens[1], 'type': tokens[2]}\n",
      "\n",
      "def parseArffDataRow(row):\n",
      "    tokens = row[:-1].split(',')\n",
      "    return tokens"
     ],
     "language": "python",
     "metadata": {},
     "outputs": [],
     "prompt_number": 36
    },
    {
     "cell_type": "code",
     "collapsed": false,
     "input": [
      "featureLabel = [parseArffLabelRow(row) for row in labels]"
     ],
     "language": "python",
     "metadata": {},
     "outputs": [],
     "prompt_number": 39
    },
    {
     "cell_type": "code",
     "collapsed": false,
     "input": [
      "featureVector = [parseArffDataRow(row) for row in data]\n",
      "cols = [d['feature'] for d in featureLabel]"
     ],
     "language": "python",
     "metadata": {},
     "outputs": [],
     "prompt_number": 55
    },
    {
     "cell_type": "code",
     "collapsed": false,
     "input": [
      "df = pd.DataFrame.from_records(featureVector, columns=cols)"
     ],
     "language": "python",
     "metadata": {},
     "outputs": [],
     "prompt_number": 56
    },
    {
     "cell_type": "code",
     "collapsed": false,
     "input": [
      "df[cols[:-1]] = df[cols[:-1]].astype(float)"
     ],
     "language": "python",
     "metadata": {},
     "outputs": [],
     "prompt_number": 57
    },
    {
     "cell_type": "code",
     "collapsed": false,
     "input": [
      "df.sum()"
     ],
     "language": "python",
     "metadata": {},
     "outputs": [
      {
       "metadata": {},
       "output_type": "pyout",
       "prompt_number": 62,
       "text": [
        "CRFSO1                                              27.447274\n",
        "CRFANP1                                                   0.0\n",
        "WRDADJ                                                  2.353\n",
        "WRDPRO                                                  1.682\n",
        "DRNEG                                                   728.0\n",
        "DESWLsyd                                           115.231853\n",
        "DESWLltd                                           267.142529\n",
        "DESWLsy                                            197.819388\n",
        "CRFCWOa                                             11.004757\n",
        "DESSC                                                  3321.0\n",
        "DRNP                                                      0.0\n",
        "CRFSOa                                              26.536365\n",
        "CRFAO1                                              45.124357\n",
        "DESWC                                                 49531.0\n",
        "DESSL                                              1742.98532\n",
        "WRDVERB                                                10.513\n",
        "CNCADC                                                  0.444\n",
        "DRVP                                                   3021.0\n",
        "SYNNP                                               68.518618\n",
        "RDFFGL                                            8054.609334\n",
        "CNCCaus                                                   0.2\n",
        "LDTTRc                                              53.558187\n",
        "CRFAOa                                              43.173626\n",
        "CNCTemp                                                 0.482\n",
        "CRFCWOad                                             9.921052\n",
        "CRFNOa                                              23.211012\n",
        "CNCAdd                                                  1.834\n",
        "WRDPRP2                                                 0.222\n",
        "CRFCWO1d                                             5.889145\n",
        "CNCLogic                                                1.741\n",
        "WRDNOUN                                                 10.17\n",
        "LDTTRa                                              46.914322\n",
        "CRFCWO1                                             10.124626\n",
        "CNCAll                                                  2.952\n",
        "WRDPRP3s                                                0.799\n",
        "DESPL                                            19275.503274\n",
        "WRDPRP3p                                                0.158\n",
        "DESSLd                                             998.281234\n",
        "WRDPRP1s                                                0.418\n",
        "DESWLlt                                            439.726429\n",
        "CRFANP1a                                                  0.0\n",
        "WRDPRP1p                                                0.085\n",
        "CRFNO1                                              23.382951\n",
        "WRDADV                                                  3.062\n",
        "DESPC                                                  1035.0\n",
        "class       simplesimplesimplesimplesimplesimplesimplesimp...\n",
        "dtype: object"
       ]
      }
     ],
     "prompt_number": 62
    },
    {
     "cell_type": "code",
     "collapsed": false,
     "input": [
      "#this line prepares IPython for working with matplotlib\n",
      "%matplotlib inline  \n",
      "\n",
      "# this actually imports matplotlib\n",
      "import matplotlib.pyplot as plt  \n",
      "\n",
      "x = np.linspace(0, 10, 30)  #array of 30 points from 0 to 10\n",
      "y = np.sin(x)\n",
      "z = y + np.random.normal(size=30) * .2\n",
      "plt.plot(x, y, 'ro-', label='A sine wave')\n",
      "plt.plot(x, z, 'b-', label='Noisy sine')\n",
      "plt.legend(loc = 'lower right')\n",
      "plt.xlabel(\"X axis\")\n",
      "plt.ylabel(\"Y axis\")  "
     ],
     "language": "python",
     "metadata": {},
     "outputs": [
      {
       "metadata": {},
       "output_type": "pyout",
       "prompt_number": 63,
       "text": [
        "<matplotlib.text.Text at 0x10d7c9b50>"
       ]
      },
      {
       "metadata": {},
       "output_type": "display_data",
       "png": "[encoded data removed]",
       "text": [
        "<matplotlib.figure.Figure at 0x10c8d4c50>"
       ]
      }
     ],
     "prompt_number": 63
    },
    {
     "cell_type": "code",
     "collapsed": false,
     "input": [],
     "language": "python",
     "metadata": {},
     "outputs": []
    }
   ],
   "metadata": {}
  }
 ]
}